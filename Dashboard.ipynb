{
 "cells": [
  {
   "cell_type": "markdown",
   "metadata": {},
   "source": [
    "## MODULES"
   ]
  },
  {
   "cell_type": "code",
   "execution_count": 10,
   "metadata": {},
   "outputs": [],
   "source": [
    "import numpy as np\n",
    "import matplotlib.pyplot as plt\n",
    "from mpl_toolkits.mplot3d import Axes3D\n",
    "import ipywidgets as widgets\n",
    "from scipy.stats import cauchy\n",
    "from IPython.display import display, clear_output"
   ]
  },
  {
   "cell_type": "markdown",
   "metadata": {},
   "source": [
    "## Functions and test"
   ]
  },
  {
   "cell_type": "code",
   "execution_count": 11,
   "metadata": {},
   "outputs": [],
   "source": [
    "\n",
    "# Funciones para generar trayectorias\n",
    "def generate_CRW(steps, speed, initial_position, cauchy_coef):\n",
    "    angles = cauchy.rvs(0, cauchy_coef, size=steps)\n",
    "    x = np.cos(angles) * speed\n",
    "    y = np.sin(angles) * speed\n",
    "    z = np.random.normal(0, speed, size=steps)  # Z con distribución normal\n",
    "    changes = np.vstack([x, y, z]).T\n",
    "    trajectory = np.cumsum(changes, axis=0) + initial_position\n",
    "    return trajectory\n",
    "\n",
    "def generate_LF(steps, speed, initial_position, cauchy_coef, alpha):\n",
    "    distances = np.random.pareto(alpha, size=steps) + speed\n",
    "    angles = cauchy.rvs(0, cauchy_coef, size=steps)\n",
    "    x = np.cos(angles) * distances\n",
    "    y = np.sin(angles) * distances\n",
    "    z = np.random.normal(0, speed, size=steps)  # Z con distribución normal\n",
    "    changes = np.vstack([x, y, z]).T\n",
    "    trajectory = np.cumsum(changes, axis=0) + initial_position\n",
    "    return trajectory\n",
    "\n",
    "def generate_BM(steps, speed, initial_position):\n",
    "    changes = np.random.normal(0, speed, size=(steps, 3))\n",
    "    trajectory = np.cumsum(changes, axis=0) + initial_position\n",
    "    return trajectory\n"
   ]
  },
  {
   "cell_type": "markdown",
   "metadata": {},
   "source": [
    "## Metrics"
   ]
  },
  {
   "cell_type": "code",
   "execution_count": 12,
   "metadata": {},
   "outputs": [],
   "source": [
    "# Functions to calculate metrics\n",
    "def calculate_route_length(trajectory):\n",
    "    distances = np.sqrt(np.sum(np.diff(trajectory, axis=0)**2, axis=1))\n",
    "    total_length = np.sum(distances)\n",
    "    return total_length\n",
    "\n",
    "def calculate_mean_square_displacement(trajectory):\n",
    "    displacement = trajectory - trajectory[0]\n",
    "    msd = np.mean(np.sum(displacement**2, axis=1))\n",
    "    return msd"
   ]
  },
  {
   "cell_type": "markdown",
   "metadata": {},
   "source": [
    "## Function to plot"
   ]
  },
  {
   "cell_type": "code",
   "execution_count": 13,
   "metadata": {},
   "outputs": [],
   "source": [
    "# Function to plot trajectory and metric\n",
    "def plot_trajectory_and_metric(trajectory, metric_values, metric_name):\n",
    "    plt.figure(figsize=(14, 6))\n",
    "\n",
    "    # 3D Trajectory\n",
    "    ax1 = plt.subplot(1, 2, 1, projection='3d')\n",
    "    ax1.plot(trajectory[:, 0], trajectory[:, 1], trajectory[:, 2])\n",
    "    ax1.set_title('3D Trajectory')\n",
    "    ax1.set_xlabel('X')\n",
    "    ax1.set_ylabel('Y')\n",
    "    ax1.set_zlabel('Z')\n",
    "\n",
    "    # Metric in line plot\n",
    "    ax2 = plt.subplot(1, 2, 2)\n",
    "    ax2.plot(metric_values, label=metric_name, color='purple')\n",
    "    ax2.set_title(f'{metric_name} over time')\n",
    "    ax2.set_xlabel('Step')\n",
    "    ax2.set_ylabel(metric_name)\n",
    "    ax2.legend()\n",
    "\n",
    "    plt.tight_layout()\n",
    "    plt.show()\n",
    "\n"
   ]
  },
  {
   "cell_type": "code",
   "execution_count": null,
   "metadata": {},
   "outputs": [],
   "source": []
  },
  {
   "cell_type": "code",
   "execution_count": null,
   "metadata": {},
   "outputs": [],
   "source": []
  }
 ],
 "metadata": {
  "kernelspec": {
   "display_name": "Python 3",
   "language": "python",
   "name": "python3"
  },
  "language_info": {
   "codemirror_mode": {
    "name": "ipython",
    "version": 3
   },
   "file_extension": ".py",
   "mimetype": "text/x-python",
   "name": "python",
   "nbconvert_exporter": "python",
   "pygments_lexer": "ipython3",
   "version": "3.12.2"
  }
 },
 "nbformat": 4,
 "nbformat_minor": 2
}
