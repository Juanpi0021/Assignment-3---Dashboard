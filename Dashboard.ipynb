{
 "cells": [
  {
   "cell_type": "markdown",
   "metadata": {},
   "source": [
    "## MODULES"
   ]
  },
  {
   "cell_type": "code",
   "execution_count": 7,
   "metadata": {},
   "outputs": [],
   "source": [
    "import numpy as np\n",
    "import matplotlib.pyplot as plt\n",
    "from mpl_toolkits.mplot3d import Axes3D\n",
    "import ipywidgets as widgets\n",
    "from scipy.stats import cauchy\n",
    "from IPython.display import display, clear_output"
   ]
  },
  {
   "cell_type": "markdown",
   "metadata": {},
   "source": [
    "## Functions and test"
   ]
  },
  {
   "cell_type": "code",
   "execution_count": 8,
   "metadata": {},
   "outputs": [],
   "source": [
    "\n",
    "# Funciones para generar trayectorias\n",
    "def generate_CRW(steps, speed, initial_position, cauchy_coef):\n",
    "    angles = cauchy.rvs(0, cauchy_coef, size=steps)\n",
    "    x = np.cos(angles) * speed\n",
    "    y = np.sin(angles) * speed\n",
    "    z = np.random.normal(0, speed, size=steps)  # Z con distribución normal\n",
    "    changes = np.vstack([x, y, z]).T\n",
    "    trajectory = np.cumsum(changes, axis=0) + initial_position\n",
    "    return trajectory\n",
    "\n",
    "def generate_LF(steps, speed, initial_position, cauchy_coef, alpha):\n",
    "    distances = np.random.pareto(alpha, size=steps) + speed\n",
    "    angles = cauchy.rvs(0, cauchy_coef, size=steps)\n",
    "    x = np.cos(angles) * distances\n",
    "    y = np.sin(angles) * distances\n",
    "    z = np.random.normal(0, speed, size=steps)  # Z con distribución normal\n",
    "    changes = np.vstack([x, y, z]).T\n",
    "    trajectory = np.cumsum(changes, axis=0) + initial_position\n",
    "    return trajectory\n",
    "\n",
    "def generate_BM(steps, speed, initial_position):\n",
    "    changes = np.random.normal(0, speed, size=(steps, 3))\n",
    "    trajectory = np.cumsum(changes, axis=0) + initial_position\n",
    "    return trajectory\n"
   ]
  },
  {
   "cell_type": "markdown",
   "metadata": {},
   "source": [
    "## Metrics"
   ]
  },
  {
   "cell_type": "code",
   "execution_count": 9,
   "metadata": {},
   "outputs": [],
   "source": [
    "# Functions to calculate metrics\n",
    "def calculate_route_length(trajectory):\n",
    "    distances = np.sqrt(np.sum(np.diff(trajectory, axis=0)**2, axis=1))\n",
    "    total_length = np.sum(distances)\n",
    "    return total_length\n",
    "\n",
    "def calculate_mean_square_displacement(trajectory):\n",
    "    displacement = trajectory - trajectory[0]\n",
    "    msd = np.mean(np.sum(displacement**2, axis=1))\n",
    "    return msd"
   ]
  },
  {
   "cell_type": "markdown",
   "metadata": {},
   "source": [
    "## Function to plot"
   ]
  },
  {
   "cell_type": "code",
   "execution_count": 10,
   "metadata": {},
   "outputs": [],
   "source": [
    "# Function to plot trajectory and metric\n",
    "def plot_trajectory_and_metric(trajectory, metric_values, metric_name):\n",
    "    plt.figure(figsize=(14, 6))\n",
    "\n",
    "    # 3D Trajectory\n",
    "    ax1 = plt.subplot(1, 2, 1, projection='3d')\n",
    "    ax1.plot(trajectory[:, 0], trajectory[:, 1], trajectory[:, 2])\n",
    "    ax1.set_title('3D Trajectory')\n",
    "    ax1.set_xlabel('X')\n",
    "    ax1.set_ylabel('Y')\n",
    "    ax1.set_zlabel('Z')\n",
    "\n",
    "    # Metric in line plot\n",
    "    ax2 = plt.subplot(1, 2, 2)\n",
    "    ax2.plot(metric_values, label=metric_name, color='purple')\n",
    "    ax2.set_title(f'{metric_name} over time')\n",
    "    ax2.set_xlabel('Step')\n",
    "    ax2.set_ylabel(metric_name)\n",
    "    ax2.legend()\n",
    "\n",
    "    plt.tight_layout()\n",
    "    plt.show()\n",
    "\n"
   ]
  },
  {
   "cell_type": "markdown",
   "metadata": {},
   "source": [
    "## Interface and conections with the plots"
   ]
  },
  {
   "cell_type": "code",
   "execution_count": 11,
   "metadata": {},
   "outputs": [
    {
     "data": {
      "application/vnd.jupyter.widget-view+json": {
       "model_id": "bab98952a2404643a90d836c9c906041",
       "version_major": 2,
       "version_minor": 0
      },
      "text/plain": [
       "HBox(children=(VBox(children=(HBox(children=(Button(description='BM', style=ButtonStyle(button_color='lightblu…"
      ]
     },
     "metadata": {},
     "output_type": "display_data"
    }
   ],
   "source": [
    "# Function to update the plot with the selected trajectory\n",
    "def update_plot():\n",
    "    initial_position = np.array([initial_position_selector.value] * 3)\n",
    "    \n",
    "    if current_trajectory_type == 'BM':\n",
    "        trajectory = generate_BM(step_selector.value, speed_selector.value, initial_position)\n",
    "    elif current_trajectory_type == 'CRW':\n",
    "        trajectory = generate_CRW(step_selector.value, speed_selector.value, initial_position, cauchy_coef_selector.value)\n",
    "    elif current_trajectory_type == 'LF':\n",
    "        trajectory = generate_LF(step_selector.value, speed_selector.value, initial_position, cauchy_coef_selector.value, alpha_selector.value)\n",
    "\n",
    "    if metric_selector.value == 'Route Length':\n",
    "        metric_values = [calculate_route_length(trajectory[:i+1]) for i in range(1, step_selector.value+1)]\n",
    "    else:  # Mean Square Displacement\n",
    "        metric_values = [calculate_mean_square_displacement(trajectory[:i+1]) for i in range(1, step_selector.value+1)]\n",
    "\n",
    "    with output:\n",
    "        clear_output(wait=True)\n",
    "        plot_trajectory_and_metric(trajectory, metric_values, metric_selector.value)\n",
    "\n",
    "# Button function to select the trajectory\n",
    "def on_button_click(b):\n",
    "    global current_trajectory_type\n",
    "    current_trajectory_type = b.description\n",
    "    for button in buttons:\n",
    "        button.style.button_color = 'lightgray'\n",
    "    b.style.button_color = 'lightblue'\n",
    "    update_plot()  # Update the plot when a new trajectory type is selected\n",
    "\n",
    "# Real-time update function when sliders move\n",
    "def connect_sliders():\n",
    "    step_selector.observe(lambda change: update_plot(), names='value')\n",
    "    speed_selector.observe(lambda change: update_plot(), names='value')\n",
    "    initial_position_selector.observe(lambda change: update_plot(), names='value')\n",
    "    cauchy_coef_selector.observe(lambda change: update_plot(), names='value')\n",
    "    alpha_selector.observe(lambda change: update_plot(), names='value')\n",
    "    metric_selector.observe(lambda change: update_plot(), names='value')\n",
    "\n",
    "# Interactive interface with buttons\n",
    "def interface():\n",
    "    global buttons, current_trajectory_type, output\n",
    "    current_trajectory_type = 'BM'\n",
    "    \n",
    "    buttons = [widgets.Button(description='BM'), \n",
    "               widgets.Button(description='CRW'), \n",
    "               widgets.Button(description='LF')]\n",
    "    \n",
    "    for button in buttons:\n",
    "        button.on_click(on_button_click)\n",
    "        button.style.button_color = 'lightgray'\n",
    "    \n",
    "    buttons[0].style.button_color = 'lightblue'  # Starts with BM selected\n",
    "    \n",
    "    global output, step_selector, speed_selector, initial_position_selector, cauchy_coef_selector, alpha_selector, metric_selector\n",
    "    output = widgets.Output()\n",
    "\n",
    "    # Sliders and other widgets\n",
    "    step_selector = widgets.IntSlider(min=10, max=1000, step=10, value=100, description='Number of Steps:', style={'description_width': 'initial'})\n",
    "    speed_selector = widgets.FloatSlider(min=0.1, max=10.0, step=0.1, value=1.0, description='Speed:', style={'description_width': 'initial'})\n",
    "    initial_position_selector = widgets.FloatSlider(min=-10.0, max=10.0, step=0.1, value=0.0, description='Initial Position:', style={'description_width': 'initial'})\n",
    "    cauchy_coef_selector = widgets.FloatSlider(min=0.1, max=5.0, step=0.1, value=1.0, description='Cauchy Coef.:', style={'description_width': 'initial'})\n",
    "    alpha_selector = widgets.FloatSlider(min=0.1, max=2.0, step=0.1, value=1.0, description='Lévy Alpha:', style={'description_width': 'initial'})\n",
    "    metric_selector = widgets.Dropdown(options=['PL', 'MSD'], description='Metric:', style={'description_width': 'initial'})\n",
    "\n",
    "    # Connect sliders for real-time update\n",
    "    connect_sliders()\n",
    "\n",
    "    # Create layout with menu on the left and plots on the right\n",
    "    controls = widgets.VBox([widgets.HBox(buttons), step_selector, speed_selector, initial_position_selector, \n",
    "                              cauchy_coef_selector, alpha_selector, metric_selector],layout=widgets.Layout(padding='100px 0px 0px 0px'))\n",
    "    layout = widgets.HBox([controls, output])\n",
    "    \n",
    "    display(layout)\n",
    "\n",
    "# Call the function to display the interface\n",
    "interface()"
   ]
  },
  {
   "cell_type": "code",
   "execution_count": null,
   "metadata": {},
   "outputs": [],
   "source": []
  }
 ],
 "metadata": {
  "kernelspec": {
   "display_name": "Python 3",
   "language": "python",
   "name": "python3"
  },
  "language_info": {
   "codemirror_mode": {
    "name": "ipython",
    "version": 3
   },
   "file_extension": ".py",
   "mimetype": "text/x-python",
   "name": "python",
   "nbconvert_exporter": "python",
   "pygments_lexer": "ipython3",
   "version": "3.12.2"
  }
 },
 "nbformat": 4,
 "nbformat_minor": 2
}
